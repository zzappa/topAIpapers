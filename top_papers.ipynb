{
  "cells": [
    {
      "cell_type": "code",
      "execution_count": 1,
      "metadata": {
        "id": "-XsPQ1qpYHAs"
      },
      "outputs": [],
      "source": [
        "import requests\n",
        "import time\n",
        "import urllib.parse\n",
        "\n",
        "SEM_SCHOLAR_API_KEY = 'YOUR-KEY'"
      ]
    },
    {
      "cell_type": "code",
      "execution_count": null,
      "metadata": {
        "id": "-2x2tB2U28Om"
      },
      "outputs": [],
      "source": [
        "def fetch_paper_details(paper_id):\n",
        "    url = f\"https://api.semanticscholar.org/graph/v1/paper/{paper_id}?fields=fieldsOfStudy\"\n",
        "    response = requests.get(url, headers={'x-api-key': SEM_SCHOLAR_API_KEY})\n",
        "    if response.status_code == 200:\n",
        "        return response.json()\n",
        "    else:\n",
        "        print(f\"Failed to fetch paper details: {response.status_code}, {response.text}\")\n",
        "        return None\n",
        "\n",
        "def fetch_papers(fields, min_citations, start_year, end_year):\n",
        "    papers = []\n",
        "    seen_ids = set()\n",
        "    headers = {'x-api-key': SEM_SCHOLAR_API_KEY}\n",
        "\n",
        "    for field in fields:\n",
        "        print(field)\n",
        "        encoded_field = urllib.parse.quote(field)\n",
        "        time.sleep(5)\n",
        "        for year in range(start_year, end_year + 1):\n",
        "            time.sleep(3)\n",
        "            url = f\"https://api.semanticscholar.org/graph/v1/paper/search?query={encoded_field}&limit=100&fields=title,authors,year,citationCount,url&sort=citationCount&year={year}\"\n",
        "            response = requests.get(url, headers=headers)\n",
        "            if response.status_code == 200:\n",
        "                data = response.json()\n",
        "                for paper in data.get('data', []):\n",
        "                    if paper.get('citationCount', 0) >= min_citations:\n",
        "                        paper_details = fetch_paper_details(paper['paperId'])\n",
        "                        if paper_details and paper_details['fieldsOfStudy'] and 'Computer Science' in paper_details.get('fieldsOfStudy', []):\n",
        "                            papers.append(paper)\n",
        "            else:\n",
        "                print(f\"Failed to fetch papers for {field} in {year}: {response.status_code}, {response.text}\")\n",
        "    return sorted(papers, key=lambda x: x['citationCount'], reverse=True)\n",
        "\n",
        "\n",
        "\n",
        "fields = [\"Machine Learning\",\n",
        "          \"Deep Learning\",\n",
        "          'Artificial Intelligence',\n",
        "          'Computer Science',\n",
        "          'Natural Language Processing',\n",
        "          'Net',\n",
        "          'Attention',\n",
        "          'Normalization',\n",
        "          'reinforcement learning',\n",
        "          'rnn',\n",
        "          'cnn',\n",
        "          'recurrent',\n",
        "          'convolutional',\n",
        "          'machine translation',\n",
        "          'natural language understanding',\n",
        "          'computer vision',\n",
        "          'gpt',\n",
        "          'image generation',\n",
        "          'image recognition',\n",
        "          'generative pre-trained transformer',\n",
        "          'generative pretrained transformer',\n",
        "          'generative ai',\n",
        "          'transformer',\n",
        "          'chatgpt',\n",
        "          'large language model',\n",
        "          'llm',\n",
        "          'understanding natural language',\n",
        "          'stochastic parrot',\n",
        "          'alphago',\n",
        "          'alphazero',\n",
        "          'alphafold',\n",
        "          'chincilla',\n",
        "          'scaling law',\n",
        "        ]\n",
        "def get_papers(fields):\n",
        "    papers = fetch_papers(fields, 500, 1935, 2023)\n",
        "    return sorted(papers, key=lambda x: x['citationCount'], reverse=True)\n",
        "\n",
        "papers = get_papers(fields)\n",
        "\n",
        "unique_papers = {}\n",
        "for paper in papers:\n",
        "    unique_papers[paper['paperId']] = paper\n",
        "\n",
        "papers = list(unique_papers.values())\n",
        "len(papers)"
      ]
    },
    {
      "cell_type": "code",
      "execution_count": null,
      "metadata": {
        "id": "K6R3_Do4ZLv2"
      },
      "outputs": [],
      "source": [
        "for paper in papers:\n",
        "    print(f\"{paper['year']} - {paper['authors'][0]['name']} - {paper['title']} - {paper['citationCount']} - {paper['url']}\")"
      ]
    },
    {
      "cell_type": "code",
      "source": [
        "def convert_to_markdown_table(papers):\n",
        "    markdown_table = \"| Year | Author | Title | Citations |\\n\"\n",
        "    markdown_table += \"|------|--------|-------|-----------|\\n\"\n",
        "\n",
        "    for paper in papers:\n",
        "        title_link = f\"[{paper['title']}]({paper['url']})\"\n",
        "        author_name = paper['authors'][0]['name'] if paper['authors'] else \"No Author\"\n",
        "        markdown_table += f\"| {paper['year']} | {author_name} | {title_link} | {paper['citationCount']} |\\n\"\n",
        "\n",
        "    return markdown_table\n",
        "\n",
        "\n",
        "markdown_table = convert_to_markdown_table(papers)\n",
        "print(markdown_table)"
      ],
      "metadata": {
        "id": "tcD_ynqm2GfV"
      },
      "execution_count": null,
      "outputs": []
    },
    {
      "cell_type": "code",
      "source": [],
      "metadata": {
        "id": "m9PUkDDn3qNW"
      },
      "execution_count": null,
      "outputs": []
    }
  ],
  "metadata": {
    "colab": {
      "provenance": []
    },
    "kernelspec": {
      "display_name": "Python 3",
      "name": "python3"
    },
    "language_info": {
      "name": "python"
    }
  },
  "nbformat": 4,
  "nbformat_minor": 0
}